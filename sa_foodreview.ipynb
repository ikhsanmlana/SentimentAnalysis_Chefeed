{
 "cells": [
  {
   "cell_type": "code",
   "execution_count": 1,
   "metadata": {},
   "outputs": [
    {
     "name": "stderr",
     "output_type": "stream",
     "text": [
      "2022-07-01 15:27:59.699349: W tensorflow/stream_executor/platform/default/dso_loader.cc:64] Could not load dynamic library 'libcudart.so.11.0'; dlerror: libcudart.so.11.0: cannot open shared object file: No such file or directory\n",
      "2022-07-01 15:27:59.699370: I tensorflow/stream_executor/cuda/cudart_stub.cc:29] Ignore above cudart dlerror if you do not have a GPU set up on your machine.\n"
     ]
    }
   ],
   "source": [
    "import pandas as pd\n",
    "import tensorflow as tf\n",
    "import os "
   ]
  },
  {
   "cell_type": "code",
   "execution_count": 2,
   "metadata": {},
   "outputs": [
    {
     "data": {
      "text/html": [
       "<div>\n",
       "<style scoped>\n",
       "    .dataframe tbody tr th:only-of-type {\n",
       "        vertical-align: middle;\n",
       "    }\n",
       "\n",
       "    .dataframe tbody tr th {\n",
       "        vertical-align: top;\n",
       "    }\n",
       "\n",
       "    .dataframe thead th {\n",
       "        text-align: right;\n",
       "    }\n",
       "</style>\n",
       "<table border=\"1\" class=\"dataframe\">\n",
       "  <thead>\n",
       "    <tr style=\"text-align: right;\">\n",
       "      <th></th>\n",
       "      <th>ReviewId</th>\n",
       "      <th>RecipeId</th>\n",
       "      <th>AuthorId</th>\n",
       "      <th>AuthorName</th>\n",
       "      <th>Rating</th>\n",
       "      <th>Review</th>\n",
       "      <th>DateSubmitted</th>\n",
       "      <th>DateModified</th>\n",
       "    </tr>\n",
       "  </thead>\n",
       "  <tbody>\n",
       "    <tr>\n",
       "      <th>0</th>\n",
       "      <td>2</td>\n",
       "      <td>992</td>\n",
       "      <td>2008</td>\n",
       "      <td>gayg msft</td>\n",
       "      <td>5</td>\n",
       "      <td>better than any you can get at a restaurant!</td>\n",
       "      <td>2000-01-25T21:44:00Z</td>\n",
       "      <td>2000-01-25T21:44:00Z</td>\n",
       "    </tr>\n",
       "    <tr>\n",
       "      <th>1</th>\n",
       "      <td>7</td>\n",
       "      <td>4384</td>\n",
       "      <td>1634</td>\n",
       "      <td>Bill Hilbrich</td>\n",
       "      <td>4</td>\n",
       "      <td>I cut back on the mayo, and made up the differ...</td>\n",
       "      <td>2001-10-17T16:49:59Z</td>\n",
       "      <td>2001-10-17T16:49:59Z</td>\n",
       "    </tr>\n",
       "    <tr>\n",
       "      <th>2</th>\n",
       "      <td>9</td>\n",
       "      <td>4523</td>\n",
       "      <td>2046</td>\n",
       "      <td>Gay Gilmore ckpt</td>\n",
       "      <td>2</td>\n",
       "      <td>i think i did something wrong because i could ...</td>\n",
       "      <td>2000-02-25T09:00:00Z</td>\n",
       "      <td>2000-02-25T09:00:00Z</td>\n",
       "    </tr>\n",
       "    <tr>\n",
       "      <th>3</th>\n",
       "      <td>13</td>\n",
       "      <td>7435</td>\n",
       "      <td>1773</td>\n",
       "      <td>Malarkey Test</td>\n",
       "      <td>5</td>\n",
       "      <td>easily the best i have ever had.  juicy flavor...</td>\n",
       "      <td>2000-03-13T21:15:00Z</td>\n",
       "      <td>2000-03-13T21:15:00Z</td>\n",
       "    </tr>\n",
       "    <tr>\n",
       "      <th>4</th>\n",
       "      <td>14</td>\n",
       "      <td>44</td>\n",
       "      <td>2085</td>\n",
       "      <td>Tony Small</td>\n",
       "      <td>5</td>\n",
       "      <td>An excellent dish.</td>\n",
       "      <td>2000-03-28T12:51:00Z</td>\n",
       "      <td>2000-03-28T12:51:00Z</td>\n",
       "    </tr>\n",
       "  </tbody>\n",
       "</table>\n",
       "</div>"
      ],
      "text/plain": [
       "   ReviewId  RecipeId  AuthorId        AuthorName  Rating  \\\n",
       "0         2       992      2008         gayg msft       5   \n",
       "1         7      4384      1634     Bill Hilbrich       4   \n",
       "2         9      4523      2046  Gay Gilmore ckpt       2   \n",
       "3        13      7435      1773     Malarkey Test       5   \n",
       "4        14        44      2085        Tony Small       5   \n",
       "\n",
       "                                              Review         DateSubmitted  \\\n",
       "0       better than any you can get at a restaurant!  2000-01-25T21:44:00Z   \n",
       "1  I cut back on the mayo, and made up the differ...  2001-10-17T16:49:59Z   \n",
       "2  i think i did something wrong because i could ...  2000-02-25T09:00:00Z   \n",
       "3  easily the best i have ever had.  juicy flavor...  2000-03-13T21:15:00Z   \n",
       "4                                 An excellent dish.  2000-03-28T12:51:00Z   \n",
       "\n",
       "           DateModified  \n",
       "0  2000-01-25T21:44:00Z  \n",
       "1  2001-10-17T16:49:59Z  \n",
       "2  2000-02-25T09:00:00Z  \n",
       "3  2000-03-13T21:15:00Z  \n",
       "4  2000-03-28T12:51:00Z  "
      ]
     },
     "execution_count": 2,
     "metadata": {},
     "output_type": "execute_result"
    }
   ],
   "source": [
    "df = pd.read_csv('reviews.csv') \n",
    "df.head()"
   ]
  },
  {
   "cell_type": "code",
   "execution_count": 3,
   "metadata": {},
   "outputs": [
    {
     "data": {
      "text/plain": [
       "ReviewId           0\n",
       "RecipeId           0\n",
       "AuthorId           0\n",
       "AuthorName         0\n",
       "Rating             0\n",
       "Review           214\n",
       "DateSubmitted      0\n",
       "DateModified       0\n",
       "dtype: int64"
      ]
     },
     "execution_count": 3,
     "metadata": {},
     "output_type": "execute_result"
    }
   ],
   "source": [
    "df.isnull().sum()"
   ]
  },
  {
   "cell_type": "code",
   "execution_count": 4,
   "metadata": {},
   "outputs": [
    {
     "data": {
      "text/plain": [
       "ReviewId         0\n",
       "RecipeId         0\n",
       "AuthorId         0\n",
       "AuthorName       0\n",
       "Rating           0\n",
       "Review           0\n",
       "DateSubmitted    0\n",
       "DateModified     0\n",
       "dtype: int64"
      ]
     },
     "execution_count": 4,
     "metadata": {},
     "output_type": "execute_result"
    }
   ],
   "source": [
    "df = df.dropna(subset=['Review'])\n",
    "df.isnull().sum()"
   ]
  },
  {
   "cell_type": "code",
   "execution_count": 5,
   "metadata": {},
   "outputs": [],
   "source": [
    "df['cleaned_reviews'] = df['Review'].str.lower()"
   ]
  },
  {
   "cell_type": "code",
   "execution_count": 6,
   "metadata": {},
   "outputs": [
    {
     "data": {
      "text/plain": [
       "0         better than any you can get at a restaurant!\n",
       "1    i cut back on the mayo, and made up the differ...\n",
       "2    i think i did something wrong because i could ...\n",
       "3    easily the best i have ever had.  juicy flavor...\n",
       "4                                   an excellent dish.\n",
       "Name: cleaned_reviews, dtype: object"
      ]
     },
     "execution_count": 6,
     "metadata": {},
     "output_type": "execute_result"
    }
   ],
   "source": [
    "df['cleaned_reviews'].head()"
   ]
  },
  {
   "cell_type": "code",
   "execution_count": 7,
   "metadata": {},
   "outputs": [
    {
     "name": "stderr",
     "output_type": "stream",
     "text": [
      "/tmp/ipykernel_1467097/3349767945.py:1: FutureWarning: The default value of regex will change from True to False in a future version.\n",
      "  df['cleaned_reviews'] = df['cleaned_reviews'].str.replace('[^\\w\\s]','')\n"
     ]
    },
    {
     "data": {
      "text/plain": [
       "0          better than any you can get at a restaurant\n",
       "1    i cut back on the mayo and made up the differe...\n",
       "2    i think i did something wrong because i could ...\n",
       "3    easily the best i have ever had  juicy flavorf...\n",
       "4                                    an excellent dish\n",
       "Name: cleaned_reviews, dtype: object"
      ]
     },
     "execution_count": 7,
     "metadata": {},
     "output_type": "execute_result"
    }
   ],
   "source": [
    "df['cleaned_reviews'] = df['cleaned_reviews'].str.replace('[^\\w\\s]','') \n",
    "df['cleaned_reviews'].head() \n"
   ]
  },
  {
   "cell_type": "code",
   "execution_count": 8,
   "metadata": {},
   "outputs": [],
   "source": [
    "import nltk\n",
    "from nltk.corpus import stopwords "
   ]
  },
  {
   "cell_type": "code",
   "execution_count": 9,
   "metadata": {},
   "outputs": [],
   "source": [
    "# nltk.download('stopwords')"
   ]
  },
  {
   "cell_type": "code",
   "execution_count": 10,
   "metadata": {},
   "outputs": [],
   "source": [
    "stop_words = stopwords.words('english')"
   ]
  },
  {
   "cell_type": "code",
   "execution_count": 11,
   "metadata": {},
   "outputs": [],
   "source": [
    "def remove_sw(text):\n",
    "    filtered_words = []\n",
    "    for x in text: \n",
    "        if x not in stop_words:\n",
    "            filtered_words.append(x)\n",
    "    \n",
    "    return filtered_words "
   ]
  },
  {
   "cell_type": "code",
   "execution_count": 12,
   "metadata": {},
   "outputs": [],
   "source": [
    "df['cleaned_reviews'] = df['cleaned_reviews'].apply(lambda x: x.split(\" \"))\n",
    "df['cleaned_reviews'] = df['cleaned_reviews'].apply(lambda x: remove_sw(x))"
   ]
  },
  {
   "cell_type": "code",
   "execution_count": 13,
   "metadata": {},
   "outputs": [
    {
     "data": {
      "text/plain": [
       "0                            [better, get, restaurant]\n",
       "1    [cut, back, mayo, made, difference, sour, crea...\n",
       "2    [think, something, wrong, could, taste, cornst...\n",
       "3    [easily, best, ever, , juicy, flavorful, dry, ...\n",
       "4                                    [excellent, dish]\n",
       "Name: cleaned_reviews, dtype: object"
      ]
     },
     "execution_count": 13,
     "metadata": {},
     "output_type": "execute_result"
    }
   ],
   "source": [
    "df['cleaned_reviews'].head()"
   ]
  },
  {
   "cell_type": "code",
   "execution_count": 14,
   "metadata": {},
   "outputs": [
    {
     "data": {
      "text/html": [
       "<div>\n",
       "<style scoped>\n",
       "    .dataframe tbody tr th:only-of-type {\n",
       "        vertical-align: middle;\n",
       "    }\n",
       "\n",
       "    .dataframe tbody tr th {\n",
       "        vertical-align: top;\n",
       "    }\n",
       "\n",
       "    .dataframe thead th {\n",
       "        text-align: right;\n",
       "    }\n",
       "</style>\n",
       "<table border=\"1\" class=\"dataframe\">\n",
       "  <thead>\n",
       "    <tr style=\"text-align: right;\">\n",
       "      <th></th>\n",
       "      <th>cleaned_reviews</th>\n",
       "      <th>is_positive</th>\n",
       "    </tr>\n",
       "  </thead>\n",
       "  <tbody>\n",
       "    <tr>\n",
       "      <th>0</th>\n",
       "      <td>[better, get, restaurant]</td>\n",
       "      <td>1</td>\n",
       "    </tr>\n",
       "    <tr>\n",
       "      <th>1</th>\n",
       "      <td>[cut, back, mayo, made, difference, sour, crea...</td>\n",
       "      <td>1</td>\n",
       "    </tr>\n",
       "    <tr>\n",
       "      <th>2</th>\n",
       "      <td>[think, something, wrong, could, taste, cornst...</td>\n",
       "      <td>0</td>\n",
       "    </tr>\n",
       "    <tr>\n",
       "      <th>3</th>\n",
       "      <td>[easily, best, ever, , juicy, flavorful, dry, ...</td>\n",
       "      <td>1</td>\n",
       "    </tr>\n",
       "    <tr>\n",
       "      <th>4</th>\n",
       "      <td>[excellent, dish]</td>\n",
       "      <td>1</td>\n",
       "    </tr>\n",
       "    <tr>\n",
       "      <th>...</th>\n",
       "      <td>...</td>\n",
       "      <td>...</td>\n",
       "    </tr>\n",
       "    <tr>\n",
       "      <th>1401977</th>\n",
       "      <td>[disappointed, couldnt, wait, make, husband, b...</td>\n",
       "      <td>0</td>\n",
       "    </tr>\n",
       "    <tr>\n",
       "      <th>1401978</th>\n",
       "      <td>[nothing, drain, dont, heat, liquids, put, mil...</td>\n",
       "      <td>1</td>\n",
       "    </tr>\n",
       "    <tr>\n",
       "      <th>1401979</th>\n",
       "      <td>[good, base, recipe, someone, start, quadruple...</td>\n",
       "      <td>1</td>\n",
       "    </tr>\n",
       "    <tr>\n",
       "      <th>1401980</th>\n",
       "      <td>[thank, much, amazing, recipe, lived, kenai, s...</td>\n",
       "      <td>1</td>\n",
       "    </tr>\n",
       "    <tr>\n",
       "      <th>1401981</th>\n",
       "      <td>[cant, say, enough, recipe, best, pot, roast, ...</td>\n",
       "      <td>1</td>\n",
       "    </tr>\n",
       "  </tbody>\n",
       "</table>\n",
       "<p>1401768 rows × 2 columns</p>\n",
       "</div>"
      ],
      "text/plain": [
       "                                           cleaned_reviews  is_positive\n",
       "0                                [better, get, restaurant]            1\n",
       "1        [cut, back, mayo, made, difference, sour, crea...            1\n",
       "2        [think, something, wrong, could, taste, cornst...            0\n",
       "3        [easily, best, ever, , juicy, flavorful, dry, ...            1\n",
       "4                                        [excellent, dish]            1\n",
       "...                                                    ...          ...\n",
       "1401977  [disappointed, couldnt, wait, make, husband, b...            0\n",
       "1401978  [nothing, drain, dont, heat, liquids, put, mil...            1\n",
       "1401979  [good, base, recipe, someone, start, quadruple...            1\n",
       "1401980  [thank, much, amazing, recipe, lived, kenai, s...            1\n",
       "1401981  [cant, say, enough, recipe, best, pot, roast, ...            1\n",
       "\n",
       "[1401768 rows x 2 columns]"
      ]
     },
     "execution_count": 14,
     "metadata": {},
     "output_type": "execute_result"
    }
   ],
   "source": [
    "import numpy as np \n",
    "\n",
    "df['is_positive'] = np.where(df['Rating']<3, 0, 1) \n",
    "\n",
    "df[['cleaned_reviews','is_positive']]"
   ]
  },
  {
   "cell_type": "code",
   "execution_count": 15,
   "metadata": {},
   "outputs": [
    {
     "data": {
      "text/plain": [
       "661"
      ]
     },
     "execution_count": 15,
     "metadata": {},
     "output_type": "execute_result"
    }
   ],
   "source": [
    "df['cleaned_reviews'] = df['cleaned_reviews'].apply(lambda x: list(filter(None,x)))\n",
    "        \n",
    "\n",
    "max_word = max(df.cleaned_reviews, key=len) \n",
    "len(max_word)\n",
    "\n",
    "# import urllib.request \n",
    "\n",
    "# url = 'https://nlp.stanford.edu/data/glove.6B.zip'\n",
    "# filename = 'glove.6b.zip'\n",
    "# urllib.request.urlretrieve(url,filename)"
   ]
  },
  {
   "cell_type": "code",
   "execution_count": 16,
   "metadata": {},
   "outputs": [
    {
     "data": {
      "text/plain": [
       "99"
      ]
     },
     "execution_count": 16,
     "metadata": {},
     "output_type": "execute_result"
    }
   ],
   "source": [
    "df = df[df.cleaned_reviews.str.len() < 100]\n",
    "\n",
    "max_word = max(df.cleaned_reviews, key=len) \n",
    "len(max_word)\n",
    "\n",
    "# import zipfile \n",
    "\n",
    "# with zipfile.ZipFile('glove.6b.zip', 'r') as zip: \n",
    "#     zip.extractall()"
   ]
  },
  {
   "cell_type": "code",
   "execution_count": 17,
   "metadata": {},
   "outputs": [
    {
     "data": {
      "text/plain": [
       "179"
      ]
     },
     "execution_count": 17,
     "metadata": {},
     "output_type": "execute_result"
    }
   ],
   "source": [
    "# word_vectors = dict()\n",
    "\n",
    "# def add_wordvector(dict, filename):\n",
    "#     with open(filename, 'r', encoding='utf8') as f:\n",
    "#         for line in f.readlines():\n",
    "#             line = line.split(' ')\n",
    "\n",
    "#             try:\n",
    "#                 if line[0] not in stop_words:\n",
    "#                     dict[line[0]] = np.array(line[1:], dtype=float)\n",
    "#             except:\n",
    "#                 continue \n",
    "\n",
    "def add_wordvector(filename):\n",
    "    with open(filename, 'r', encoding='utf8') as f:\n",
    "        wordToGloveVector = {}\n",
    "        wordToIndex = {}\n",
    "        indexToWord = {}\n",
    "        \n",
    "        \n",
    "        for line in f.readlines():\n",
    "            line = line.split(' ')\n",
    "\n",
    "            try:\n",
    "                if line[0] not in stop_words:\n",
    "                    wordToGloveVector[line[0]] = np.array(line[1:], dtype=float)\n",
    "            except:\n",
    "                continue\n",
    "                \n",
    "        tokens = sorted(wordToGloveVector.keys())\n",
    "        for i, word in enumerate(tokens):\n",
    "            kerasIdx = i + 1 # 0 is reserved for masking n Keras \n",
    "            wordToIndex[word] = kerasIdx \n",
    "            indexToWord[kerasIdx] = word \n",
    "            \n",
    "    return wordToGloveVector, wordToIndex, indexToWord\n",
    "            \n",
    "wordToGloveVector, wordToIndex, indexToWord = add_wordvector('glove.6B.50d.txt')\n",
    "len(stop_words)"
   ]
  },
  {
   "cell_type": "code",
   "execution_count": 18,
   "metadata": {},
   "outputs": [
    {
     "data": {
      "text/plain": [
       "array([-3.5586e-01,  5.2130e-01, -6.1070e-01, -3.0131e-01,  9.4862e-01,\n",
       "       -3.1539e-01, -5.9831e-01,  1.2188e-01, -3.1943e-02,  5.5695e-01,\n",
       "       -1.0621e-01,  6.3399e-01, -4.7340e-01, -7.5895e-02,  3.8247e-01,\n",
       "        8.1569e-02,  8.2214e-01,  2.2220e-01, -8.3764e-03, -7.6620e-01,\n",
       "       -5.6253e-01,  6.1759e-01,  2.0292e-01, -4.8598e-02,  8.7815e-01,\n",
       "       -1.6549e+00, -7.7418e-01,  1.5435e-01,  9.4823e-01, -3.9520e-01,\n",
       "        3.7302e+00,  8.2855e-01, -1.4104e-01,  1.6395e-02,  2.1115e-01,\n",
       "       -3.6085e-02, -1.5587e-01,  8.6583e-01,  2.6309e-01, -7.1015e-01,\n",
       "       -3.6770e-02,  1.8282e-03, -1.7704e-01,  2.7032e-01,  1.1026e-01,\n",
       "        1.4133e-01, -5.7322e-02,  2.7207e-01,  3.1305e-01,  9.2771e-01])"
      ]
     },
     "execution_count": 18,
     "metadata": {},
     "output_type": "execute_result"
    }
   ],
   "source": [
    "len(wordToGloveVector)\n",
    "\n",
    "wordToGloveVector['good'] "
   ]
  },
  {
   "cell_type": "code",
   "execution_count": 19,
   "metadata": {},
   "outputs": [
    {
     "data": {
      "text/plain": [
       "164285"
      ]
     },
     "execution_count": 19,
     "metadata": {},
     "output_type": "execute_result"
    }
   ],
   "source": [
    "wordToIndex['good']"
   ]
  },
  {
   "cell_type": "code",
   "execution_count": 20,
   "metadata": {},
   "outputs": [],
   "source": [
    "from nltk.stem import WordNetLemmatizer\n",
    "\n",
    "# nltk.download('wordnet')\n",
    "# nltk.download('omw-1.4')\n",
    "\n",
    "lemmatizer = WordNetLemmatizer()"
   ]
  },
  {
   "cell_type": "code",
   "execution_count": 21,
   "metadata": {},
   "outputs": [
    {
     "data": {
      "text/plain": [
       "['better', 'get', 'restaurant']"
      ]
     },
     "execution_count": 21,
     "metadata": {},
     "output_type": "execute_result"
    }
   ],
   "source": [
    "def lemmatize_token(text):\n",
    "    lemmatized_token = [lemmatizer.lemmatize(x) for x in text] \n",
    "    useful_token = [x for x in lemmatized_token if x in wordToGloveVector]\n",
    "\n",
    "    return useful_token \n",
    "\n",
    "word_token = df['cleaned_reviews'][0] \n",
    "\n",
    "lemmatize_token(word_token)\n"
   ]
  },
  {
   "cell_type": "code",
   "execution_count": 22,
   "metadata": {},
   "outputs": [],
   "source": [
    "def text_to_vector(text, token_dict=wordToGloveVector):\n",
    "    processed_token = lemmatize_token(text)\n",
    "\n",
    "    vectors = []\n",
    "\n",
    "    for x in processed_token:\n",
    "        if x not in wordToGloveVector:\n",
    "            continue \n",
    "        \n",
    "        vectors.append(token_dict[x]) \n",
    "\n",
    "    return np.array(vectors, dtype=float) \n",
    "\n",
    "def text_to_indices(text):\n",
    "    processed_token = lemmatize_token(text)\n",
    "    \n",
    "    wordToIndices = []\n",
    "    \n",
    "    for x in processed_token:\n",
    "        if x not in wordToGloveVector:\n",
    "            continue \n",
    "        \n",
    "        wordToIndices.append(wordToIndex[x])\n",
    "        \n",
    "        \n",
    "    return np.array(wordToIndices, dtype=int)\n",
    "\n",
    "\n",
    "    "
   ]
  },
  {
   "cell_type": "code",
   "execution_count": 23,
   "metadata": {},
   "outputs": [],
   "source": [
    "# def vectorize_review(df):\n",
    "#     label = df['is_positive'].to_numpy().astype(int)\n",
    "\n",
    "#     vectorized_text = []\n",
    "\n",
    "#     for text in df['cleaned_reviews']:\n",
    "#         text_as_vector = text_to_vector(text) \n",
    "\n",
    "#         if text_as_vector.shape[0] == 0:\n",
    "#             text_as_vector = np.zeros(shape=(1,50)) \n",
    "\n",
    "#         vectorized_text.append(text_as_vector)\n",
    "\n",
    "#     return vectorized_text, label\n",
    "\n",
    "def map_input_output(df):\n",
    "    label = df['is_positive'].to_numpy().astype(int)\n",
    "\n",
    "    input_text = []\n",
    "\n",
    "    for text in df['cleaned_reviews']:\n",
    "#         text_as_indices = text_to_indices(text)\n",
    "    \n",
    "#         if text_as_indices.shape[0] == 0:\n",
    "#             text_as_indices = np.zeros(shape=(1))\n",
    "\n",
    "        processed_token = lemmatize_token(text)\n",
    "        \n",
    "#         if len(processed_token) == False:\n",
    "#             processed_token = np.zeros(shape=(1)) \n",
    "\n",
    "        input_text.append(processed_token)\n",
    "        \n",
    "    return input_text, label"
   ]
  },
  {
   "cell_type": "code",
   "execution_count": 24,
   "metadata": {},
   "outputs": [
    {
     "data": {
      "text/plain": [
       "(350481, 75103, 75104)"
      ]
     },
     "execution_count": 24,
     "metadata": {},
     "output_type": "execute_result"
    }
   ],
   "source": [
    "train_df = df.sample(frac=.36, random_state=1)\n",
    "train_df.reset_index(drop=True, inplace=True) \n",
    "\n",
    "split_index_1 = int(len(train_df) * 0.7)\n",
    "split_index_2 = int(len(train_df) * 0.85)\n",
    "\n",
    "train_df, val_df, test_df = train_df[:split_index_1], train_df[split_index_1:split_index_2], train_df[split_index_2:]\n",
    "\n",
    "len(train_df), len(val_df), len(test_df)"
   ]
  },
  {
   "cell_type": "code",
   "execution_count": null,
   "metadata": {},
   "outputs": [],
   "source": []
  },
  {
   "cell_type": "code",
   "execution_count": 25,
   "metadata": {},
   "outputs": [
    {
     "data": {
      "text/plain": [
       "(350481, 18, 14)"
      ]
     },
     "execution_count": 25,
     "metadata": {},
     "output_type": "execute_result"
    }
   ],
   "source": [
    "x_train, y_train = map_input_output(train_df) \n",
    "\n",
    "len(x_train), len(x_train[0]), len(x_train[1])"
   ]
  },
  {
   "cell_type": "code",
   "execution_count": 26,
   "metadata": {},
   "outputs": [
    {
     "data": {
      "text/plain": [
       "count    350481.000000\n",
       "mean         25.145871\n",
       "std          16.206878\n",
       "min           0.000000\n",
       "25%          13.000000\n",
       "50%          22.000000\n",
       "75%          33.000000\n",
       "max          99.000000\n",
       "dtype: float64"
      ]
     },
     "execution_count": 26,
     "metadata": {},
     "output_type": "execute_result"
    }
   ],
   "source": [
    "token_len = []\n",
    "\n",
    "for i in range (len(x_train)):\n",
    "    token_len.append(len(x_train[i])) \n",
    "\n",
    "pd.Series(token_len).describe()"
   ]
  },
  {
   "cell_type": "code",
   "execution_count": 27,
   "metadata": {},
   "outputs": [],
   "source": [
    "from tensorflow.keras.preprocessing.text import Tokenizer\n",
    "\n",
    "tokenizer = Tokenizer(num_words=5000)\n",
    "tokenizer.fit_on_texts(x_train)\n",
    "\n",
    "words_to_index = tokenizer.word_index\n",
    "\n",
    "# words_to_index"
   ]
  },
  {
   "cell_type": "code",
   "execution_count": 28,
   "metadata": {},
   "outputs": [],
   "source": [
    "# x_train_indices = tokenizer.texts_to_sequences(x_train)\n",
    "\n",
    "# x_train_indices\n",
    "\n",
    "# wordToIndex['recipe']"
   ]
  },
  {
   "cell_type": "code",
   "execution_count": 29,
   "metadata": {},
   "outputs": [],
   "source": [
    "from tensorflow.keras import layers \n",
    "from tensorflow.keras.models import Sequential \n",
    "from tensorflow.keras.layers import Embedding\n",
    "\n",
    "def createPretrainedEmbeddingLayer(wordToGloveVector, wordIndex):\n",
    "    vocabLen = len(wordIndex) + 1 \n",
    "    embDim = 50\n",
    "    \n",
    "    embeddingMatrix = np.zeros((vocabLen, embDim)) \n",
    "    for word, index in wordIndex.items():\n",
    "        embeddingMatrix[index, :] = wordToGloveVector[word]\n",
    "        \n",
    "    embeddingLayer = Embedding(vocabLen, embDim, input_length=100, embeddings_initializer=tf.keras.initializers.Constant(embeddingMatrix), trainable=False)\n",
    "    \n",
    "    return embeddingLayer "
   ]
  },
  {
   "cell_type": "code",
   "execution_count": 30,
   "metadata": {},
   "outputs": [
    {
     "data": {
      "text/plain": [
       "array([-2.3259e-02, -1.0774e-01,  1.9567e-01,  3.3223e-02,  7.4798e-02,\n",
       "       -2.4640e-01, -3.7363e-01,  2.3737e-01, -4.3820e-02,  7.5206e-01,\n",
       "       -6.8002e-01,  1.4228e-01, -5.1052e-02,  1.2944e-01,  6.1359e-02,\n",
       "        1.3980e-01,  6.7984e-01, -5.8867e-01,  1.1884e-01, -1.0120e+00,\n",
       "       -4.2694e-01,  1.5890e-01, -7.4903e-02,  5.3789e-01,  1.0589e+00,\n",
       "       -1.3319e+00, -3.8969e-01,  8.3434e-02,  1.2894e+00, -7.9956e-01,\n",
       "        3.0825e+00,  3.7201e-01, -4.9131e-01,  1.5977e-01,  4.3779e-01,\n",
       "        1.2637e-01,  1.1982e-01,  9.9909e-01, -2.4347e-01, -7.7499e-01,\n",
       "        4.7008e-01,  1.7949e-01,  2.6817e-01,  6.6041e-01,  2.0982e-01,\n",
       "        3.2454e-01,  6.6948e-01, -2.9127e-03,  6.3353e-01,  5.2693e-01])"
      ]
     },
     "execution_count": 30,
     "metadata": {},
     "output_type": "execute_result"
    }
   ],
   "source": [
    "gloveEmbeddingLayer = createPretrainedEmbeddingLayer(wordToGloveVector, words_to_index)\n",
    "\n",
    "wordToGloveVector['easy']"
   ]
  },
  {
   "cell_type": "code",
   "execution_count": 31,
   "metadata": {},
   "outputs": [
    {
     "data": {
      "text/plain": [
       "0"
      ]
     },
     "execution_count": 31,
     "metadata": {},
     "output_type": "execute_result"
    }
   ],
   "source": [
    "len(x_train[1133])"
   ]
  },
  {
   "cell_type": "code",
   "execution_count": 32,
   "metadata": {},
   "outputs": [
    {
     "data": {
      "text/plain": [
       "['recipe',\n",
       " 'us',\n",
       " '1',\n",
       " 'cup',\n",
       " 'cornflakes',\n",
       " 'instead',\n",
       " '2',\n",
       " '12',\n",
       " 'cup',\n",
       " 'flour',\n",
       " 'shortening',\n",
       " 'cut',\n",
       " 'flour',\n",
       " 'right',\n",
       " 'good',\n",
       " 'lol',\n",
       " 'thank',\n",
       " 'posting']"
      ]
     },
     "execution_count": 32,
     "metadata": {},
     "output_type": "execute_result"
    }
   ],
   "source": [
    "# x_train = tokenizer.texts_to_sequences(x_train)\n",
    "\n",
    "# x_train\n",
    "\n",
    "x_train[0]"
   ]
  },
  {
   "cell_type": "code",
   "execution_count": 33,
   "metadata": {
    "scrolled": true
   },
   "outputs": [
    {
     "data": {
      "text/plain": [
       "(350481, 100)"
      ]
     },
     "execution_count": 33,
     "metadata": {},
     "output_type": "execute_result"
    }
   ],
   "source": [
    "x_train = tokenizer.texts_to_sequences(x_train)\n",
    "\n",
    "x_train = tf.keras.utils.pad_sequences(x_train, maxlen=100, dtype='float32', padding='post') \n",
    "\n",
    "x_train.shape\n",
    "# tf.keras.utils.pad_sequences([[1, 2, 3], [3, 4, 5, 6], [7, 8]], dtype='float32', padding='post')"
   ]
  },
  {
   "cell_type": "code",
   "execution_count": 34,
   "metadata": {},
   "outputs": [
    {
     "data": {
      "text/plain": [
       "array([1.000e+00, 1.066e+03, 5.600e+01, 3.700e+01, 3.039e+03, 2.900e+01,\n",
       "       5.100e+01, 5.800e+01, 3.700e+01, 1.240e+02, 1.120e+03, 7.700e+01,\n",
       "       1.240e+02, 1.430e+02, 7.000e+00, 4.790e+02, 3.000e+01, 4.200e+01,\n",
       "       0.000e+00, 0.000e+00, 0.000e+00, 0.000e+00, 0.000e+00, 0.000e+00,\n",
       "       0.000e+00, 0.000e+00, 0.000e+00, 0.000e+00, 0.000e+00, 0.000e+00,\n",
       "       0.000e+00, 0.000e+00, 0.000e+00, 0.000e+00, 0.000e+00, 0.000e+00,\n",
       "       0.000e+00, 0.000e+00, 0.000e+00, 0.000e+00, 0.000e+00, 0.000e+00,\n",
       "       0.000e+00, 0.000e+00, 0.000e+00, 0.000e+00, 0.000e+00, 0.000e+00,\n",
       "       0.000e+00, 0.000e+00, 0.000e+00, 0.000e+00, 0.000e+00, 0.000e+00,\n",
       "       0.000e+00, 0.000e+00, 0.000e+00, 0.000e+00, 0.000e+00, 0.000e+00,\n",
       "       0.000e+00, 0.000e+00, 0.000e+00, 0.000e+00, 0.000e+00, 0.000e+00,\n",
       "       0.000e+00, 0.000e+00, 0.000e+00, 0.000e+00, 0.000e+00, 0.000e+00,\n",
       "       0.000e+00, 0.000e+00, 0.000e+00, 0.000e+00, 0.000e+00, 0.000e+00,\n",
       "       0.000e+00, 0.000e+00, 0.000e+00, 0.000e+00, 0.000e+00, 0.000e+00,\n",
       "       0.000e+00, 0.000e+00, 0.000e+00, 0.000e+00, 0.000e+00, 0.000e+00,\n",
       "       0.000e+00, 0.000e+00, 0.000e+00, 0.000e+00, 0.000e+00, 0.000e+00,\n",
       "       0.000e+00, 0.000e+00, 0.000e+00, 0.000e+00], dtype=float32)"
      ]
     },
     "execution_count": 34,
     "metadata": {},
     "output_type": "execute_result"
    }
   ],
   "source": [
    "len(x_train[0]), len(x_train[1]) \n",
    "\n",
    "x_train[0]"
   ]
  },
  {
   "cell_type": "code",
   "execution_count": 35,
   "metadata": {},
   "outputs": [
    {
     "data": {
      "text/plain": [
       "(350481,)"
      ]
     },
     "execution_count": 35,
     "metadata": {},
     "output_type": "execute_result"
    }
   ],
   "source": [
    "y_train.shape  \n"
   ]
  },
  {
   "cell_type": "code",
   "execution_count": 36,
   "metadata": {},
   "outputs": [
    {
     "data": {
      "text/plain": [
       "((75103, 100), (75103,))"
      ]
     },
     "execution_count": 36,
     "metadata": {},
     "output_type": "execute_result"
    }
   ],
   "source": [
    "x_val, y_val = map_input_output(val_df)\n",
    "\n",
    "x_val = tokenizer.texts_to_sequences(x_val)\n",
    "\n",
    "x_val = tf.keras.utils.pad_sequences(x_val, maxlen=100, dtype='float32', padding='post')\n",
    "\n",
    "x_val.shape, y_val.shape"
   ]
  },
  {
   "cell_type": "code",
   "execution_count": 37,
   "metadata": {},
   "outputs": [
    {
     "data": {
      "text/plain": [
       "((75104, 100), (75104,))"
      ]
     },
     "execution_count": 37,
     "metadata": {},
     "output_type": "execute_result"
    }
   ],
   "source": [
    "x_test, y_test = map_input_output(test_df)\n",
    "\n",
    "x_test = tokenizer.texts_to_sequences(x_test)\n",
    "\n",
    "x_test = tf.keras.utils.pad_sequences(x_test, maxlen=100, dtype='float32', padding='post')\n",
    "\n",
    "x_test.shape, y_test.shape"
   ]
  },
  {
   "cell_type": "markdown",
   "metadata": {},
   "source": [
    "# MODEL TRAINING"
   ]
  },
  {
   "cell_type": "code",
   "execution_count": 62,
   "metadata": {},
   "outputs": [
    {
     "data": {
      "text/plain": [
       "1    322925\n",
       "0     27556\n",
       "Name: is_positive, dtype: int64"
      ]
     },
     "execution_count": 62,
     "metadata": {},
     "output_type": "execute_result"
    }
   ],
   "source": [
    "class_freq = pd.value_counts(train_df['is_positive']) \n",
    "class_freq"
   ]
  },
  {
   "cell_type": "code",
   "execution_count": 63,
   "metadata": {},
   "outputs": [
    {
     "data": {
      "text/plain": [
       "{0: 6.359431702714472, 1: 0.5426662537740962}"
      ]
     },
     "execution_count": 63,
     "metadata": {},
     "output_type": "execute_result"
    }
   ],
   "source": [
    "weights = {0: class_freq.sum() / (class_freq[0] * 2), 1: class_freq.sum() / (class_freq[1] * 2)}   #model1\n",
    "\n",
    "# weights = {0: class_freq.sum() / class_freq[0], 1: class_freq.sum() / class_freq[1] } #model2\n",
    "\n",
    "# weights = {0: (class_freq.sum() / (class_freq[0]))+3, 1: class_freq.sum() / (class_freq[1])} #model3\n",
    "\n",
    "weights "
   ]
  },
  {
   "cell_type": "code",
   "execution_count": 46,
   "metadata": {},
   "outputs": [
    {
     "name": "stdout",
     "output_type": "stream",
     "text": [
      "Trial 3 Complete [01h 22m 08s]\n",
      "auc: 0.8347547650337219\n",
      "\n",
      "Best auc So Far: 0.8593870401382446\n",
      "Total elapsed time: 12h 02m 32s\n",
      "INFO:tensorflow:Oracle triggered exit\n"
     ]
    }
   ],
   "source": [
    "from tensorflow.keras.losses import BinaryCrossentropy\n",
    "from tensorflow.keras.optimizers import Adam \n",
    "from tensorflow.keras.metrics import AUC \n",
    "from tensorflow.keras.callbacks import ModelCheckpoint \n",
    "import keras_tuner\n",
    "from keras_tuner import BayesianOptimization\n",
    "\n",
    "def build_lstm(hp):\n",
    "#     activation = hp.Choice('activation', \n",
    "#                         [\n",
    "#                           'relu',\n",
    "#                           'tanh',\n",
    "#                           'linear',\n",
    "#                           'selu',\n",
    "#                           'elu'\n",
    "#                         ])\n",
    "\n",
    "#     num_rnn_layers = hp.Int(\n",
    "#                         'num_rnn_layers', \n",
    "#                         min_value=0,\n",
    "#                         max_value=12,\n",
    "#                         default=3)\n",
    "\n",
    "    recurrent_dropout = hp.Float(\n",
    "                        'recurrent_dropout', \n",
    "                        min_value=0.0,\n",
    "                        max_value=0.99,\n",
    "                        default=0.2)\n",
    "    num_units = hp.Int(\n",
    "                        'num_units', \n",
    "                        min_value=46,\n",
    "                        max_value=500,\n",
    "                        default=68)\n",
    "    \n",
    "    model = Sequential([])\n",
    "    model.add(gloveEmbeddingLayer)\n",
    "    model.add(layers.GRU(units=num_units, recurrent_dropout = recurrent_dropout))\n",
    "    model.add(layers.Flatten())\n",
    "    model.add(layers.Dense(1, activation='sigmoid'))\n",
    "    model.compile(loss=BinaryCrossentropy(), metrics=['accuracy', AUC(name='auc')], optimizer=Adam(\n",
    "      hp.Choice('learning_rate', values=[0.01, 0.001, 0.0001])))\n",
    "\n",
    "# loss='binary_crossentropy'\n",
    "\n",
    "#     model.compile(\n",
    "#       optimizer=keras.optimizers.Adam(\n",
    "#       hp.Float(\n",
    "#         'learning_rate',\n",
    "#         min_value=1e-10,\n",
    "#         max_value=1e-2,\n",
    "#         sampling='LOG',\n",
    "#         default=1e-6\n",
    "#             ),\n",
    "\n",
    "#         )\n",
    "#     )\n",
    "    return model\n",
    "\n",
    "bayesian_opt_tuner = BayesianOptimization(\n",
    "    build_lstm,\n",
    "    objective=keras_tuner.Objective(\"auc\", direction=\"max\"),\n",
    "    max_trials=2,\n",
    "    executions_per_trial=1,\n",
    "    directory=os.path.normpath('keras_tuning/'),\n",
    "    project_name='kerastuner_bayesian_poc',\n",
    "    overwrite=True)\n",
    "n_epochs=15\n",
    "\n",
    "bayesian_opt_tuner.search(x_train, y_train,epochs=n_epochs,\n",
    "     validation_data=(x_val, y_val),\n",
    "     validation_split=0.2,verbose=1)"
   ]
  },
  {
   "cell_type": "code",
   "execution_count": 65,
   "metadata": {},
   "outputs": [
    {
     "name": "stdout",
     "output_type": "stream",
     "text": [
      "WARNING:tensorflow:Detecting that an object or model or tf.train.Checkpoint is being deleted with unrestored values. See the following logs for the specific values in question. To silence these warnings, use `status.expect_partial()`. See https://www.tensorflow.org/api_docs/python/tf/train/Checkpoint#restorefor details about the status object returned by the restore function.\n",
      "WARNING:tensorflow:Value in checkpoint could not be found in the restored object: (root).optimizer.iter\n",
      "WARNING:tensorflow:Value in checkpoint could not be found in the restored object: (root).optimizer.beta_1\n",
      "WARNING:tensorflow:Value in checkpoint could not be found in the restored object: (root).optimizer.beta_2\n",
      "WARNING:tensorflow:Value in checkpoint could not be found in the restored object: (root).optimizer.decay\n",
      "WARNING:tensorflow:Value in checkpoint could not be found in the restored object: (root).optimizer.learning_rate\n",
      "Model: \"sequential\"\n",
      "_________________________________________________________________\n",
      " Layer (type)                Output Shape              Param #   \n",
      "=================================================================\n",
      " embedding (Embedding)       (None, 100, 50)           1654500   \n",
      "                                                                 \n",
      " gru (GRU)                   (None, 262)               246804    \n",
      "                                                                 \n",
      " flatten (Flatten)           (None, 262)               0         \n",
      "                                                                 \n",
      " dense (Dense)               (None, 1)                 263       \n",
      "                                                                 \n",
      "=================================================================\n",
      "Total params: 1,901,567\n",
      "Trainable params: 247,067\n",
      "Non-trainable params: 1,654,500\n",
      "_________________________________________________________________\n"
     ]
    },
    {
     "data": {
      "text/plain": [
       "({'recurrent_dropout': 0.2436689119787077,\n",
       "  'num_units': 262,\n",
       "  'learning_rate': 0.0001},\n",
       " None)"
      ]
     },
     "execution_count": 65,
     "metadata": {},
     "output_type": "execute_result"
    }
   ],
   "source": [
    "bayes_opt_model_best_model = bayesian_opt_tuner.get_best_models(num_models=1) \n",
    "model = bayes_opt_model_best_model[0] \n",
    "\n",
    "best_hps = bayesian_opt_tuner.get_best_hyperparameters()[0]\n",
    "\n",
    "best_hps.values, model.summary()\n",
    "\n",
    "# bayesian_opt_tuner.results_summary()"
   ]
  },
  {
   "cell_type": "code",
   "execution_count": 70,
   "metadata": {},
   "outputs": [
    {
     "name": "stdout",
     "output_type": "stream",
     "text": [
      "Epoch 1/15\n",
      "10953/10953 [==============================] - 994s 91ms/step - loss: 0.4563 - accuracy: 0.8355 - auc: 0.8600 - val_loss: 0.4194 - val_accuracy: 0.8476 - val_auc: 0.8393\n",
      "Epoch 2/15\n",
      "10953/10953 [==============================] - 993s 91ms/step - loss: 0.4490 - accuracy: 0.8351 - auc: 0.8651 - val_loss: 0.4778 - val_accuracy: 0.8061 - val_auc: 0.8430\n",
      "Epoch 3/15\n",
      "10953/10953 [==============================] - 992s 91ms/step - loss: 0.4441 - accuracy: 0.8349 - auc: 0.8691 - val_loss: 0.3724 - val_accuracy: 0.8697 - val_auc: 0.8342\n",
      "Epoch 4/15\n",
      "10953/10953 [==============================] - 993s 91ms/step - loss: 0.4387 - accuracy: 0.8355 - auc: 0.8726 - val_loss: 0.4599 - val_accuracy: 0.8205 - val_auc: 0.8400\n",
      "Epoch 5/15\n",
      "10953/10953 [==============================] - 992s 91ms/step - loss: 0.4333 - accuracy: 0.8365 - auc: 0.8763 - val_loss: 0.3608 - val_accuracy: 0.8726 - val_auc: 0.8330\n",
      "Epoch 6/15\n",
      "10953/10953 [==============================] - 992s 91ms/step - loss: 0.4276 - accuracy: 0.8358 - auc: 0.8804 - val_loss: 0.3969 - val_accuracy: 0.8507 - val_auc: 0.8343\n",
      "Epoch 7/15\n",
      "10953/10953 [==============================] - 992s 91ms/step - loss: 0.4209 - accuracy: 0.8353 - auc: 0.8846 - val_loss: 0.4095 - val_accuracy: 0.8409 - val_auc: 0.8349\n",
      "Epoch 8/15\n",
      "10953/10953 [==============================] - 992s 91ms/step - loss: 0.4157 - accuracy: 0.8356 - auc: 0.8880 - val_loss: 0.3993 - val_accuracy: 0.8470 - val_auc: 0.8309\n",
      "Epoch 9/15\n",
      "10953/10953 [==============================] - 984s 90ms/step - loss: 0.4103 - accuracy: 0.8365 - auc: 0.8913 - val_loss: 0.4112 - val_accuracy: 0.8354 - val_auc: 0.8307\n",
      "Epoch 10/15\n",
      "10953/10953 [==============================] - 992s 91ms/step - loss: 0.4027 - accuracy: 0.8344 - auc: 0.8959 - val_loss: 0.5008 - val_accuracy: 0.7851 - val_auc: 0.8335\n",
      "Epoch 11/15\n",
      "10953/10953 [==============================] - 992s 91ms/step - loss: 0.3965 - accuracy: 0.8348 - auc: 0.8995 - val_loss: 0.4447 - val_accuracy: 0.8098 - val_auc: 0.8324\n",
      "Epoch 12/15\n",
      "10953/10953 [==============================] - 992s 91ms/step - loss: 0.3919 - accuracy: 0.8360 - auc: 0.9020 - val_loss: 0.4431 - val_accuracy: 0.8013 - val_auc: 0.8247\n",
      "Epoch 13/15\n",
      "10953/10953 [==============================] - 992s 91ms/step - loss: 0.3851 - accuracy: 0.8346 - auc: 0.9059 - val_loss: 0.3731 - val_accuracy: 0.8486 - val_auc: 0.8278\n",
      "Epoch 14/15\n",
      "10953/10953 [==============================] - 992s 91ms/step - loss: 0.3771 - accuracy: 0.8347 - auc: 0.9101 - val_loss: 0.3869 - val_accuracy: 0.8411 - val_auc: 0.8257\n",
      "Epoch 15/15\n",
      "10953/10953 [==============================] - 993s 91ms/step - loss: 0.3711 - accuracy: 0.8334 - auc: 0.9131 - val_loss: 0.4572 - val_accuracy: 0.7936 - val_auc: 0.8234\n"
     ]
    },
    {
     "data": {
      "text/plain": [
       "<keras.callbacks.History at 0x7f2dca7313c0>"
      ]
     },
     "execution_count": 70,
     "metadata": {},
     "output_type": "execute_result"
    }
   ],
   "source": [
    "model.fit(x_train, y_train, validation_data=(x_val,y_val), epochs=15, class_weight=weights)"
   ]
  },
  {
   "cell_type": "code",
   "execution_count": null,
   "metadata": {},
   "outputs": [],
   "source": []
  },
  {
   "cell_type": "code",
   "execution_count": 71,
   "metadata": {},
   "outputs": [],
   "source": [
    "# modelGRU.save('gru_embed.h5')\n",
    "model.save('gru_embed_tuned.h5')"
   ]
  },
  {
   "cell_type": "markdown",
   "metadata": {},
   "source": [
    "# MODEL EVALUATION"
   ]
  },
  {
   "cell_type": "code",
   "execution_count": 72,
   "metadata": {},
   "outputs": [
    {
     "name": "stdout",
     "output_type": "stream",
     "text": [
      "WARNING:tensorflow:Error in loading the saved optimizer state. As a result, your model is starting with a freshly initialized optimizer.\n"
     ]
    }
   ],
   "source": [
    "from tensorflow.keras.models import load_model \n",
    "\n",
    "# best_model = load_model('modelgru_embed2/') \n",
    "\n",
    "best_model = load_model('gru_embed_tuned.h5') \n",
    "\n",
    "# best_modelrnn = load_model('modelrnn/')\n",
    "\n",
    "# best_modelgru = load_model('modelgru/')"
   ]
  },
  {
   "cell_type": "code",
   "execution_count": 73,
   "metadata": {},
   "outputs": [
    {
     "name": "stdout",
     "output_type": "stream",
     "text": [
      "2347/2347 [==============================] - 45s 19ms/step\n",
      "              precision    recall  f1-score   support\n",
      "\n",
      "           0       0.23      0.69      0.34      5871\n",
      "           1       0.97      0.80      0.88     69233\n",
      "\n",
      "    accuracy                           0.79     75104\n",
      "   macro avg       0.60      0.75      0.61     75104\n",
      "weighted avg       0.91      0.79      0.84     75104\n",
      "\n"
     ]
    }
   ],
   "source": [
    "test_predictions = (best_model.predict(x_test) > 0.5)\n",
    "\n",
    "from sklearn.metrics import classification_report\n",
    "\n",
    "print(classification_report(y_test, test_predictions))"
   ]
  },
  {
   "cell_type": "code",
   "execution_count": 74,
   "metadata": {},
   "outputs": [
    {
     "name": "stdout",
     "output_type": "stream",
     "text": [
      "2347/2347 [==============================] - 46s 19ms/step - loss: 0.4620 - accuracy: 0.7928 - auc: 0.8205\n"
     ]
    },
    {
     "data": {
      "text/plain": [
       "[0.46195846796035767, 0.7928339242935181, 0.8205148577690125]"
      ]
     },
     "execution_count": 74,
     "metadata": {},
     "output_type": "execute_result"
    }
   ],
   "source": [
    "best_model.evaluate(x_test, y_test)"
   ]
  },
  {
   "cell_type": "code",
   "execution_count": 68,
   "metadata": {},
   "outputs": [],
   "source": [
    "# best_model.summary()"
   ]
  },
  {
   "cell_type": "code",
   "execution_count": 69,
   "metadata": {},
   "outputs": [],
   "source": [
    "# model2 = load_model('model2/')"
   ]
  },
  {
   "cell_type": "code",
   "execution_count": 67,
   "metadata": {},
   "outputs": [],
   "source": [
    "# model2.summary()"
   ]
  },
  {
   "cell_type": "code",
   "execution_count": 51,
   "metadata": {},
   "outputs": [],
   "source": [
    "# model_embed = load_model('model_embed/')"
   ]
  },
  {
   "cell_type": "code",
   "execution_count": 66,
   "metadata": {},
   "outputs": [],
   "source": [
    "# model_embed.summary()"
   ]
  },
  {
   "cell_type": "code",
   "execution_count": 45,
   "metadata": {},
   "outputs": [
    {
     "data": {
      "text/plain": [
       "(1, 100)"
      ]
     },
     "execution_count": 45,
     "metadata": {},
     "output_type": "execute_result"
    }
   ],
   "source": [
    "input_text = x_test[0]\n",
    "input_array = input_text[np.newaxis, :] \n",
    "\n",
    "input_array.shape"
   ]
  },
  {
   "cell_type": "code",
   "execution_count": 46,
   "metadata": {},
   "outputs": [
    {
     "name": "stdout",
     "output_type": "stream",
     "text": [
      "1/1 [==============================] - 0s 194ms/step\n"
     ]
    },
    {
     "data": {
      "text/plain": [
       "array([[0.77509093]], dtype=float32)"
      ]
     },
     "execution_count": 46,
     "metadata": {},
     "output_type": "execute_result"
    }
   ],
   "source": [
    "best_model.predict(input_array)"
   ]
  },
  {
   "cell_type": "code",
   "execution_count": 51,
   "metadata": {},
   "outputs": [
    {
     "data": {
      "text/plain": [
       "'2.9.0'"
      ]
     },
     "execution_count": 51,
     "metadata": {},
     "output_type": "execute_result"
    }
   ],
   "source": [
    "tf.keras.__version__"
   ]
  },
  {
   "cell_type": "code",
   "execution_count": null,
   "metadata": {},
   "outputs": [],
   "source": []
  },
  {
   "cell_type": "code",
   "execution_count": 58,
   "metadata": {},
   "outputs": [],
   "source": [
    "# model = Sequential([])\n",
    "\n",
    "# # model.add(layers.Input(shape=(100,50))) \n",
    "# model.add(gloveEmbeddingLayer)\n",
    "# model.add(layers.LSTM(460, return_sequences=True))\n",
    "# model.add(layers.Dropout(0.2))\n",
    "# model.add(layers.Flatten())\n",
    "# model.add(layers.Dense(128, activation='relu'))\n",
    "# model.add(layers.Dense(1, activation='sigmoid'))\n",
    "\n",
    "# model.summary()"
   ]
  },
  {
   "cell_type": "code",
   "execution_count": 61,
   "metadata": {},
   "outputs": [],
   "source": [
    "# modelGRU = Sequential([])\n",
    "\n",
    "# # modelGRU.add(layers.Input(shape=(100,50)))\n",
    "# modelGRU.add(gloveEmbeddingLayer)\n",
    "# modelGRU.add(layers.GRU(46, return_sequences=True))\n",
    "# modelGRU.add(layers.Dropout(0.2))\n",
    "# modelGRU.add(layers.Flatten())\n",
    "# modelGRU.add(layers.Dense(1, activation='sigmoid')) \n",
    "\n",
    "# modelGRU.summary()"
   ]
  },
  {
   "cell_type": "code",
   "execution_count": 54,
   "metadata": {},
   "outputs": [],
   "source": [
    "# modelRNN = Sequential([])\n",
    "\n",
    "# # modelRNN.add(layers.Input(shape=(100,50)))\n",
    "# modelRNN.add(gloveEmbeddingLayer)\n",
    "# modelRNN.add(layers.SimpleRNN(68, return_sequences=True))\n",
    "# modelRNN.add(layers.Dropout(0.2))\n",
    "# # modelRNN.add(layers.SimpleRNN(68)) \n",
    "# modelRNN.add(layers.Flatten())\n",
    "# modelRNN.add(layers.Dense(1, activation='sigmoid')) \n",
    "\n",
    "# modelRNN.summary()"
   ]
  },
  {
   "cell_type": "code",
   "execution_count": 55,
   "metadata": {},
   "outputs": [],
   "source": [
    "# model_cp = ModelCheckpoint('model_embed_reludense/', save_best_only=True)\n",
    "# model.compile(optimizer=Adam(learning_rate=0.001), loss=BinaryCrossentropy(), metrics=['accuracy', AUC(name='auc')]) \n",
    "\n",
    "# modelrnn_cp = ModelCheckpoint('modelrnn_embed/', save_best_only=True)\n",
    "# modelRNN.compile(optimizer=Adam(learning_rate=0.001), loss=BinaryCrossentropy(), metrics=['accuracy', AUC(name='auc')])\n",
    "\n",
    "# modelgru_cp = ModelCheckpoint('modelgru_embed2/', save_best_only=True)\n",
    "modelGRU.compile(optimizer=Adam(learning_rate=0.001), loss=BinaryCrossentropy(), metrics=['accuracy', AUC(name='auc')])\n"
   ]
  },
  {
   "cell_type": "code",
   "execution_count": 58,
   "metadata": {},
   "outputs": [
    {
     "name": "stdout",
     "output_type": "stream",
     "text": [
      "Epoch 1/15\n",
      "10953/10953 [==============================] - 339s 31ms/step - loss: 0.5580 - accuracy: 0.7243 - auc: 0.7862 - val_loss: 0.5648 - val_accuracy: 0.7188 - val_auc: 0.8154\n",
      "Epoch 2/15\n",
      "10953/10953 [==============================] - 346s 32ms/step - loss: 0.5231 - accuracy: 0.7630 - auc: 0.8154 - val_loss: 0.5044 - val_accuracy: 0.7675 - val_auc: 0.8243\n",
      "Epoch 3/15\n",
      "10953/10953 [==============================] - 345s 32ms/step - loss: 0.5105 - accuracy: 0.7740 - auc: 0.8252 - val_loss: 0.4175 - val_accuracy: 0.8284 - val_auc: 0.8264\n",
      "Epoch 4/15\n",
      "10953/10953 [==============================] - 347s 32ms/step - loss: 0.5014 - accuracy: 0.7820 - auc: 0.8318 - val_loss: 0.4724 - val_accuracy: 0.7977 - val_auc: 0.8302\n",
      "Epoch 5/15\n",
      "10953/10953 [==============================] - 347s 32ms/step - loss: 0.4940 - accuracy: 0.7865 - auc: 0.8374 - val_loss: 0.5126 - val_accuracy: 0.7712 - val_auc: 0.8302\n",
      "Epoch 6/15\n",
      "10953/10953 [==============================] - 345s 32ms/step - loss: 0.4874 - accuracy: 0.7910 - auc: 0.8427 - val_loss: 0.4864 - val_accuracy: 0.7830 - val_auc: 0.8290\n",
      "Epoch 7/15\n",
      "10953/10953 [==============================] - 347s 32ms/step - loss: 0.4821 - accuracy: 0.7927 - auc: 0.8463 - val_loss: 0.4147 - val_accuracy: 0.8325 - val_auc: 0.8254\n",
      "Epoch 8/15\n",
      "10953/10953 [==============================] - 347s 32ms/step - loss: 0.4760 - accuracy: 0.7962 - auc: 0.8509 - val_loss: 0.3878 - val_accuracy: 0.8524 - val_auc: 0.8280\n",
      "Epoch 9/15\n",
      "10953/10953 [==============================] - 349s 32ms/step - loss: 0.4710 - accuracy: 0.7961 - auc: 0.8545 - val_loss: 0.4360 - val_accuracy: 0.8186 - val_auc: 0.8254\n",
      "Epoch 10/15\n",
      "10953/10953 [==============================] - 346s 32ms/step - loss: 0.4674 - accuracy: 0.7989 - auc: 0.8573 - val_loss: 0.4916 - val_accuracy: 0.7750 - val_auc: 0.8247\n",
      "Epoch 11/15\n",
      "10953/10953 [==============================] - 351s 32ms/step - loss: 0.4638 - accuracy: 0.7975 - auc: 0.8599 - val_loss: 0.5060 - val_accuracy: 0.7753 - val_auc: 0.8265\n",
      "Epoch 12/15\n",
      "10953/10953 [==============================] - 352s 32ms/step - loss: 0.4598 - accuracy: 0.8010 - auc: 0.8624 - val_loss: 0.4796 - val_accuracy: 0.7865 - val_auc: 0.8212\n",
      "Epoch 13/15\n",
      "10953/10953 [==============================] - 345s 31ms/step - loss: 0.4561 - accuracy: 0.8013 - auc: 0.8648 - val_loss: 0.4692 - val_accuracy: 0.8030 - val_auc: 0.8283\n",
      "Epoch 14/15\n",
      "10953/10953 [==============================] - 343s 31ms/step - loss: 0.4527 - accuracy: 0.8009 - auc: 0.8672 - val_loss: 0.5339 - val_accuracy: 0.7511 - val_auc: 0.8229\n",
      "Epoch 15/15\n",
      "10953/10953 [==============================] - 349s 32ms/step - loss: 0.4495 - accuracy: 0.8027 - auc: 0.8695 - val_loss: 0.5476 - val_accuracy: 0.7451 - val_auc: 0.8228\n"
     ]
    },
    {
     "data": {
      "text/plain": [
       "<keras.callbacks.History at 0x7f82f147aad0>"
      ]
     },
     "execution_count": 58,
     "metadata": {},
     "output_type": "execute_result"
    }
   ],
   "source": [
    "# model.fit(x_train, y_train, validation_data=(x_val,y_val), epochs=15, callbacks=[model_cp], class_weight=weights) \n",
    "\n",
    "# modelRNN.fit(x_train, y_train, validation_data=(x_val,y_val), epochs=15, callbacks=[modelrnn_cp], class_weight=weights) \n",
    "\n",
    "# modelGRU.fit(x_train, y_train, validation_data=(x_val,y_val), epochs=15, callbacks=[modelgru_cp], class_weight=weights) \n",
    "\n",
    "# modelGRU.fit(x_train, y_train, validation_data=(x_val,y_val), epochs=15, class_weight=weights) "
   ]
  }
 ],
 "metadata": {
  "interpreter": {
   "hash": "8c3d4d9970fc5c09c50d9318a9c7fbf4d0159e4b28833276f5678ee22bded273"
  },
  "kernelspec": {
   "display_name": "Python 3 (ipykernel)",
   "language": "python",
   "name": "python3"
  },
  "language_info": {
   "codemirror_mode": {
    "name": "ipython",
    "version": 3
   },
   "file_extension": ".py",
   "mimetype": "text/x-python",
   "name": "python",
   "nbconvert_exporter": "python",
   "pygments_lexer": "ipython3",
   "version": "3.10.0"
  }
 },
 "nbformat": 4,
 "nbformat_minor": 2
}
